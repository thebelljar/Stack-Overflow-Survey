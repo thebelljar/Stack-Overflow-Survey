{
 "cells": [
  {
   "cell_type": "markdown",
   "metadata": {},
   "source": [
    "# Stack Overflow Survey Project\n"
   ]
  },
  {
   "cell_type": "markdown",
   "metadata": {},
   "source": [
    "## Analysis of gender differences in the developer community world-wide"
   ]
  },
  {
   "cell_type": "markdown",
   "metadata": {},
   "source": [
    "As a young female developer I am astounded at the number of female developers in my company. I want to investigate gender -related questions regarding the dev community across the world using the yearsly Stack Overflow survey. "
   ]
  },
  {
   "cell_type": "markdown",
   "metadata": {},
   "source": [
    "### Questions to be answered by the below analysis:\n",
    "1. Which country has the most gender balance in the developer community?\n",
    "2. Does the job satisfaction differ amongst genders?\n",
    "3. What are the features most correlated with predicting the respondent's gender?"
   ]
  },
  {
   "cell_type": "markdown",
   "metadata": {},
   "source": [
    "### Data exploration\n"
   ]
  },
  {
   "cell_type": "markdown",
   "metadata": {},
   "source": [
    "##### The data used for this analysis was the Stack Overflow Annual Developer Survey 2019. Their website states: \"With nearly 90,000 responses fielded from over 170 countries and dependent territories, our 2019 Annual Developer Survey examines all aspects of the developer experience from career satisfaction and job search to education and opinions on open source software.\" (c) https://insights.stackoverflow.com/survey\n"
   ]
  },
  {
   "cell_type": "code",
   "execution_count": 1,
   "metadata": {},
   "outputs": [
    {
     "name": "stderr",
     "output_type": "stream",
     "text": [
      "/opt/conda/lib/python3.6/site-packages/sklearn/cross_validation.py:41: DeprecationWarning: This module was deprecated in version 0.18 in favor of the model_selection module into which all the refactored classes and functions are moved. Also note that the interface of the new CV iterators are different from that of this module. This module will be removed in 0.20.\n",
      "  \"This module will be removed in 0.20.\", DeprecationWarning)\n"
     ]
    }
   ],
   "source": [
    "# This cell contains all the imports neccessary for the analysis\n",
    "import numpy as np\n",
    "import pandas as pd\n",
    "import matplotlib.pyplot as plt\n",
    "import seaborn as sns\n",
    "\n",
    "from scipy import stats\n",
    "from matplotlib import pyplot\n",
    "from sklearn.cross_validation import train_test_split\n",
    "from sklearn.metrics import accuracy_score, f1_score\n",
    "from sklearn.linear_model import LogisticRegression\n",
    "from sklearn import tree\n",
    "from sklearn.ensemble import AdaBoostClassifier\n",
    "\n",
    "%matplotlib inline\n"
   ]
  },
  {
   "cell_type": "markdown",
   "metadata": {},
   "source": [
    "###### Loading the survey results"
   ]
  },
  {
   "cell_type": "code",
   "execution_count": 2,
   "metadata": {},
   "outputs": [],
   "source": [
    "df_info = pd.read_csv('survey_results_schema.csv')"
   ]
  },
  {
   "cell_type": "code",
   "execution_count": 3,
   "metadata": {},
   "outputs": [],
   "source": [
    "df = pd.read_csv('survey_results_public.csv')"
   ]
  },
  {
   "cell_type": "markdown",
   "metadata": {},
   "source": [
    "###### Exploring the datasets"
   ]
  },
  {
   "cell_type": "code",
   "execution_count": 4,
   "metadata": {},
   "outputs": [
    {
     "data": {
      "text/html": [
       "<div>\n",
       "<style scoped>\n",
       "    .dataframe tbody tr th:only-of-type {\n",
       "        vertical-align: middle;\n",
       "    }\n",
       "\n",
       "    .dataframe tbody tr th {\n",
       "        vertical-align: top;\n",
       "    }\n",
       "\n",
       "    .dataframe thead th {\n",
       "        text-align: right;\n",
       "    }\n",
       "</style>\n",
       "<table border=\"1\" class=\"dataframe\">\n",
       "  <thead>\n",
       "    <tr style=\"text-align: right;\">\n",
       "      <th></th>\n",
       "      <th>Respondent</th>\n",
       "      <th>Professional</th>\n",
       "      <th>ProgramHobby</th>\n",
       "      <th>Country</th>\n",
       "      <th>University</th>\n",
       "      <th>EmploymentStatus</th>\n",
       "      <th>FormalEducation</th>\n",
       "      <th>MajorUndergrad</th>\n",
       "      <th>HomeRemote</th>\n",
       "      <th>CompanySize</th>\n",
       "      <th>...</th>\n",
       "      <th>StackOverflowMakeMoney</th>\n",
       "      <th>Gender</th>\n",
       "      <th>HighestEducationParents</th>\n",
       "      <th>Race</th>\n",
       "      <th>SurveyLong</th>\n",
       "      <th>QuestionsInteresting</th>\n",
       "      <th>QuestionsConfusing</th>\n",
       "      <th>InterestedAnswers</th>\n",
       "      <th>Salary</th>\n",
       "      <th>ExpectedSalary</th>\n",
       "    </tr>\n",
       "  </thead>\n",
       "  <tbody>\n",
       "    <tr>\n",
       "      <th>0</th>\n",
       "      <td>1</td>\n",
       "      <td>Student</td>\n",
       "      <td>Yes, both</td>\n",
       "      <td>United States</td>\n",
       "      <td>No</td>\n",
       "      <td>Not employed, and not looking for work</td>\n",
       "      <td>Secondary school</td>\n",
       "      <td>NaN</td>\n",
       "      <td>NaN</td>\n",
       "      <td>NaN</td>\n",
       "      <td>...</td>\n",
       "      <td>Strongly disagree</td>\n",
       "      <td>Male</td>\n",
       "      <td>High school</td>\n",
       "      <td>White or of European descent</td>\n",
       "      <td>Strongly disagree</td>\n",
       "      <td>Strongly agree</td>\n",
       "      <td>Disagree</td>\n",
       "      <td>Strongly agree</td>\n",
       "      <td>NaN</td>\n",
       "      <td>NaN</td>\n",
       "    </tr>\n",
       "    <tr>\n",
       "      <th>1</th>\n",
       "      <td>2</td>\n",
       "      <td>Student</td>\n",
       "      <td>Yes, both</td>\n",
       "      <td>United Kingdom</td>\n",
       "      <td>Yes, full-time</td>\n",
       "      <td>Employed part-time</td>\n",
       "      <td>Some college/university study without earning ...</td>\n",
       "      <td>Computer science or software engineering</td>\n",
       "      <td>More than half, but not all, the time</td>\n",
       "      <td>20 to 99 employees</td>\n",
       "      <td>...</td>\n",
       "      <td>Strongly disagree</td>\n",
       "      <td>Male</td>\n",
       "      <td>A master's degree</td>\n",
       "      <td>White or of European descent</td>\n",
       "      <td>Somewhat agree</td>\n",
       "      <td>Somewhat agree</td>\n",
       "      <td>Disagree</td>\n",
       "      <td>Strongly agree</td>\n",
       "      <td>NaN</td>\n",
       "      <td>37500.0</td>\n",
       "    </tr>\n",
       "    <tr>\n",
       "      <th>2</th>\n",
       "      <td>3</td>\n",
       "      <td>Professional developer</td>\n",
       "      <td>Yes, both</td>\n",
       "      <td>United Kingdom</td>\n",
       "      <td>No</td>\n",
       "      <td>Employed full-time</td>\n",
       "      <td>Bachelor's degree</td>\n",
       "      <td>Computer science or software engineering</td>\n",
       "      <td>Less than half the time, but at least one day ...</td>\n",
       "      <td>10,000 or more employees</td>\n",
       "      <td>...</td>\n",
       "      <td>Disagree</td>\n",
       "      <td>Male</td>\n",
       "      <td>A professional degree</td>\n",
       "      <td>White or of European descent</td>\n",
       "      <td>Somewhat agree</td>\n",
       "      <td>Agree</td>\n",
       "      <td>Disagree</td>\n",
       "      <td>Agree</td>\n",
       "      <td>113750.0</td>\n",
       "      <td>NaN</td>\n",
       "    </tr>\n",
       "    <tr>\n",
       "      <th>3</th>\n",
       "      <td>4</td>\n",
       "      <td>Professional non-developer who sometimes write...</td>\n",
       "      <td>Yes, both</td>\n",
       "      <td>United States</td>\n",
       "      <td>No</td>\n",
       "      <td>Employed full-time</td>\n",
       "      <td>Doctoral degree</td>\n",
       "      <td>A non-computer-focused engineering discipline</td>\n",
       "      <td>Less than half the time, but at least one day ...</td>\n",
       "      <td>10,000 or more employees</td>\n",
       "      <td>...</td>\n",
       "      <td>Disagree</td>\n",
       "      <td>Male</td>\n",
       "      <td>A doctoral degree</td>\n",
       "      <td>White or of European descent</td>\n",
       "      <td>Agree</td>\n",
       "      <td>Agree</td>\n",
       "      <td>Somewhat agree</td>\n",
       "      <td>Strongly agree</td>\n",
       "      <td>NaN</td>\n",
       "      <td>NaN</td>\n",
       "    </tr>\n",
       "    <tr>\n",
       "      <th>4</th>\n",
       "      <td>5</td>\n",
       "      <td>Professional developer</td>\n",
       "      <td>Yes, I program as a hobby</td>\n",
       "      <td>Switzerland</td>\n",
       "      <td>No</td>\n",
       "      <td>Employed full-time</td>\n",
       "      <td>Master's degree</td>\n",
       "      <td>Computer science or software engineering</td>\n",
       "      <td>Never</td>\n",
       "      <td>10 to 19 employees</td>\n",
       "      <td>...</td>\n",
       "      <td>NaN</td>\n",
       "      <td>NaN</td>\n",
       "      <td>NaN</td>\n",
       "      <td>NaN</td>\n",
       "      <td>NaN</td>\n",
       "      <td>NaN</td>\n",
       "      <td>NaN</td>\n",
       "      <td>NaN</td>\n",
       "      <td>NaN</td>\n",
       "      <td>NaN</td>\n",
       "    </tr>\n",
       "  </tbody>\n",
       "</table>\n",
       "<p>5 rows × 154 columns</p>\n",
       "</div>"
      ],
      "text/plain": [
       "   Respondent                                       Professional  \\\n",
       "0           1                                            Student   \n",
       "1           2                                            Student   \n",
       "2           3                             Professional developer   \n",
       "3           4  Professional non-developer who sometimes write...   \n",
       "4           5                             Professional developer   \n",
       "\n",
       "                ProgramHobby         Country      University  \\\n",
       "0                  Yes, both   United States              No   \n",
       "1                  Yes, both  United Kingdom  Yes, full-time   \n",
       "2                  Yes, both  United Kingdom              No   \n",
       "3                  Yes, both   United States              No   \n",
       "4  Yes, I program as a hobby     Switzerland              No   \n",
       "\n",
       "                         EmploymentStatus  \\\n",
       "0  Not employed, and not looking for work   \n",
       "1                      Employed part-time   \n",
       "2                      Employed full-time   \n",
       "3                      Employed full-time   \n",
       "4                      Employed full-time   \n",
       "\n",
       "                                     FormalEducation  \\\n",
       "0                                   Secondary school   \n",
       "1  Some college/university study without earning ...   \n",
       "2                                  Bachelor's degree   \n",
       "3                                    Doctoral degree   \n",
       "4                                    Master's degree   \n",
       "\n",
       "                                  MajorUndergrad  \\\n",
       "0                                            NaN   \n",
       "1       Computer science or software engineering   \n",
       "2       Computer science or software engineering   \n",
       "3  A non-computer-focused engineering discipline   \n",
       "4       Computer science or software engineering   \n",
       "\n",
       "                                          HomeRemote  \\\n",
       "0                                                NaN   \n",
       "1              More than half, but not all, the time   \n",
       "2  Less than half the time, but at least one day ...   \n",
       "3  Less than half the time, but at least one day ...   \n",
       "4                                              Never   \n",
       "\n",
       "                CompanySize       ...       StackOverflowMakeMoney Gender  \\\n",
       "0                       NaN       ...            Strongly disagree   Male   \n",
       "1        20 to 99 employees       ...            Strongly disagree   Male   \n",
       "2  10,000 or more employees       ...                     Disagree   Male   \n",
       "3  10,000 or more employees       ...                     Disagree   Male   \n",
       "4        10 to 19 employees       ...                          NaN    NaN   \n",
       "\n",
       "  HighestEducationParents                          Race         SurveyLong  \\\n",
       "0             High school  White or of European descent  Strongly disagree   \n",
       "1       A master's degree  White or of European descent     Somewhat agree   \n",
       "2   A professional degree  White or of European descent     Somewhat agree   \n",
       "3       A doctoral degree  White or of European descent              Agree   \n",
       "4                     NaN                           NaN                NaN   \n",
       "\n",
       "  QuestionsInteresting QuestionsConfusing InterestedAnswers    Salary  \\\n",
       "0       Strongly agree           Disagree    Strongly agree       NaN   \n",
       "1       Somewhat agree           Disagree    Strongly agree       NaN   \n",
       "2                Agree           Disagree             Agree  113750.0   \n",
       "3                Agree     Somewhat agree    Strongly agree       NaN   \n",
       "4                  NaN                NaN               NaN       NaN   \n",
       "\n",
       "   ExpectedSalary  \n",
       "0             NaN  \n",
       "1         37500.0  \n",
       "2             NaN  \n",
       "3             NaN  \n",
       "4             NaN  \n",
       "\n",
       "[5 rows x 154 columns]"
      ]
     },
     "execution_count": 4,
     "metadata": {},
     "output_type": "execute_result"
    }
   ],
   "source": [
    "df.head()"
   ]
  },
  {
   "cell_type": "code",
   "execution_count": 5,
   "metadata": {},
   "outputs": [
    {
     "data": {
      "text/html": [
       "<div>\n",
       "<style scoped>\n",
       "    .dataframe tbody tr th:only-of-type {\n",
       "        vertical-align: middle;\n",
       "    }\n",
       "\n",
       "    .dataframe tbody tr th {\n",
       "        vertical-align: top;\n",
       "    }\n",
       "\n",
       "    .dataframe thead th {\n",
       "        text-align: right;\n",
       "    }\n",
       "</style>\n",
       "<table border=\"1\" class=\"dataframe\">\n",
       "  <thead>\n",
       "    <tr style=\"text-align: right;\">\n",
       "      <th></th>\n",
       "      <th>Respondent</th>\n",
       "      <th>CareerSatisfaction</th>\n",
       "      <th>JobSatisfaction</th>\n",
       "      <th>HoursPerWeek</th>\n",
       "      <th>StackOverflowSatisfaction</th>\n",
       "      <th>Salary</th>\n",
       "      <th>ExpectedSalary</th>\n",
       "    </tr>\n",
       "  </thead>\n",
       "  <tbody>\n",
       "    <tr>\n",
       "      <th>count</th>\n",
       "      <td>19102.000000</td>\n",
       "      <td>16102.000000</td>\n",
       "      <td>15253.000000</td>\n",
       "      <td>7721.000000</td>\n",
       "      <td>13452.000000</td>\n",
       "      <td>5009.000000</td>\n",
       "      <td>818.000000</td>\n",
       "    </tr>\n",
       "    <tr>\n",
       "      <th>mean</th>\n",
       "      <td>9551.500000</td>\n",
       "      <td>7.343932</td>\n",
       "      <td>7.000721</td>\n",
       "      <td>3.685922</td>\n",
       "      <td>8.357865</td>\n",
       "      <td>58341.398571</td>\n",
       "      <td>32231.521687</td>\n",
       "    </tr>\n",
       "    <tr>\n",
       "      <th>std</th>\n",
       "      <td>5514.416757</td>\n",
       "      <td>1.919330</td>\n",
       "      <td>2.128648</td>\n",
       "      <td>7.330691</td>\n",
       "      <td>1.405546</td>\n",
       "      <td>40753.384986</td>\n",
       "      <td>28543.877274</td>\n",
       "    </tr>\n",
       "    <tr>\n",
       "      <th>min</th>\n",
       "      <td>1.000000</td>\n",
       "      <td>0.000000</td>\n",
       "      <td>0.000000</td>\n",
       "      <td>0.000000</td>\n",
       "      <td>0.000000</td>\n",
       "      <td>0.000000</td>\n",
       "      <td>0.000000</td>\n",
       "    </tr>\n",
       "    <tr>\n",
       "      <th>25%</th>\n",
       "      <td>4776.250000</td>\n",
       "      <td>6.000000</td>\n",
       "      <td>6.000000</td>\n",
       "      <td>0.000000</td>\n",
       "      <td>8.000000</td>\n",
       "      <td>27956.989247</td>\n",
       "      <td>4716.459735</td>\n",
       "    </tr>\n",
       "    <tr>\n",
       "      <th>50%</th>\n",
       "      <td>9551.500000</td>\n",
       "      <td>8.000000</td>\n",
       "      <td>7.000000</td>\n",
       "      <td>1.000000</td>\n",
       "      <td>8.000000</td>\n",
       "      <td>51612.903226</td>\n",
       "      <td>29784.946237</td>\n",
       "    </tr>\n",
       "    <tr>\n",
       "      <th>75%</th>\n",
       "      <td>14326.750000</td>\n",
       "      <td>9.000000</td>\n",
       "      <td>8.000000</td>\n",
       "      <td>3.000000</td>\n",
       "      <td>9.000000</td>\n",
       "      <td>83333.333333</td>\n",
       "      <td>50000.000000</td>\n",
       "    </tr>\n",
       "    <tr>\n",
       "      <th>max</th>\n",
       "      <td>19102.000000</td>\n",
       "      <td>10.000000</td>\n",
       "      <td>10.000000</td>\n",
       "      <td>40.000000</td>\n",
       "      <td>10.000000</td>\n",
       "      <td>195000.000000</td>\n",
       "      <td>120000.000000</td>\n",
       "    </tr>\n",
       "  </tbody>\n",
       "</table>\n",
       "</div>"
      ],
      "text/plain": [
       "         Respondent  CareerSatisfaction  JobSatisfaction  HoursPerWeek  \\\n",
       "count  19102.000000        16102.000000     15253.000000   7721.000000   \n",
       "mean    9551.500000            7.343932         7.000721      3.685922   \n",
       "std     5514.416757            1.919330         2.128648      7.330691   \n",
       "min        1.000000            0.000000         0.000000      0.000000   \n",
       "25%     4776.250000            6.000000         6.000000      0.000000   \n",
       "50%     9551.500000            8.000000         7.000000      1.000000   \n",
       "75%    14326.750000            9.000000         8.000000      3.000000   \n",
       "max    19102.000000           10.000000        10.000000     40.000000   \n",
       "\n",
       "       StackOverflowSatisfaction         Salary  ExpectedSalary  \n",
       "count               13452.000000    5009.000000      818.000000  \n",
       "mean                    8.357865   58341.398571    32231.521687  \n",
       "std                     1.405546   40753.384986    28543.877274  \n",
       "min                     0.000000       0.000000        0.000000  \n",
       "25%                     8.000000   27956.989247     4716.459735  \n",
       "50%                     8.000000   51612.903226    29784.946237  \n",
       "75%                     9.000000   83333.333333    50000.000000  \n",
       "max                    10.000000  195000.000000   120000.000000  "
      ]
     },
     "execution_count": 5,
     "metadata": {},
     "output_type": "execute_result"
    }
   ],
   "source": [
    "df.describe()"
   ]
  },
  {
   "cell_type": "code",
   "execution_count": 6,
   "metadata": {},
   "outputs": [
    {
     "name": "stdout",
     "output_type": "stream",
     "text": [
      "<class 'pandas.core.frame.DataFrame'>\n",
      "RangeIndex: 19102 entries, 0 to 19101\n",
      "Columns: 154 entries, Respondent to ExpectedSalary\n",
      "dtypes: float64(6), int64(1), object(147)\n",
      "memory usage: 22.4+ MB\n"
     ]
    }
   ],
   "source": [
    "df.info()"
   ]
  },
  {
   "cell_type": "code",
   "execution_count": 7,
   "metadata": {},
   "outputs": [
    {
     "data": {
      "text/html": [
       "<div>\n",
       "<style scoped>\n",
       "    .dataframe tbody tr th:only-of-type {\n",
       "        vertical-align: middle;\n",
       "    }\n",
       "\n",
       "    .dataframe tbody tr th {\n",
       "        vertical-align: top;\n",
       "    }\n",
       "\n",
       "    .dataframe thead th {\n",
       "        text-align: right;\n",
       "    }\n",
       "</style>\n",
       "<table border=\"1\" class=\"dataframe\">\n",
       "  <thead>\n",
       "    <tr style=\"text-align: right;\">\n",
       "      <th></th>\n",
       "      <th>Column</th>\n",
       "      <th>Question</th>\n",
       "    </tr>\n",
       "  </thead>\n",
       "  <tbody>\n",
       "    <tr>\n",
       "      <th>0</th>\n",
       "      <td>Respondent</td>\n",
       "      <td>Respondent ID number</td>\n",
       "    </tr>\n",
       "    <tr>\n",
       "      <th>1</th>\n",
       "      <td>Professional</td>\n",
       "      <td>Which of the following best describes you?</td>\n",
       "    </tr>\n",
       "    <tr>\n",
       "      <th>2</th>\n",
       "      <td>ProgramHobby</td>\n",
       "      <td>Do you program as a hobby or contribute to ope...</td>\n",
       "    </tr>\n",
       "    <tr>\n",
       "      <th>3</th>\n",
       "      <td>Country</td>\n",
       "      <td>In which country do you currently live?</td>\n",
       "    </tr>\n",
       "    <tr>\n",
       "      <th>4</th>\n",
       "      <td>University</td>\n",
       "      <td>Are you currently enrolled in a formal, degree...</td>\n",
       "    </tr>\n",
       "  </tbody>\n",
       "</table>\n",
       "</div>"
      ],
      "text/plain": [
       "         Column                                           Question\n",
       "0    Respondent                               Respondent ID number\n",
       "1  Professional         Which of the following best describes you?\n",
       "2  ProgramHobby  Do you program as a hobby or contribute to ope...\n",
       "3       Country            In which country do you currently live?\n",
       "4    University  Are you currently enrolled in a formal, degree..."
      ]
     },
     "execution_count": 7,
     "metadata": {},
     "output_type": "execute_result"
    }
   ],
   "source": [
    "df_info.head()"
   ]
  },
  {
   "cell_type": "markdown",
   "metadata": {},
   "source": [
    "The survey seems very extensive in its scope and contains replies to a large number of respondents (19,102). I want to understand the data quality for the columns that are applicable to my analysis."
   ]
  },
  {
   "cell_type": "markdown",
   "metadata": {},
   "source": [
    "###### Data Preprocessing"
   ]
  },
  {
   "cell_type": "code",
   "execution_count": 8,
   "metadata": {},
   "outputs": [
    {
     "name": "stdout",
     "output_type": "stream",
     "text": [
      "The number of values that are currently missing in the demographic dataset is 1314054\n"
     ]
    }
   ],
   "source": [
    "print('The number of values that are currently missing in the demographic dataset is {}'.format(df.isnull().sum().sum()))"
   ]
  },
  {
   "cell_type": "code",
   "execution_count": 9,
   "metadata": {},
   "outputs": [
    {
     "name": "stdout",
     "output_type": "stream",
     "text": [
      "ExCoderWillNotCode           18770\n",
      "ExCoderNotForMe              18770\n",
      "ExCoderActive                18767\n",
      "ExCoderReturn                18767\n",
      "ExCoderBalance               18767\n",
      "ExCoderBelonged              18767\n",
      "ExCoderSkills                18766\n",
      "ExCoder10Years               18766\n",
      "YearsCodedJobPast            18753\n",
      "MobileDeveloperType          18546\n",
      "ExpectedSalary               18284\n",
      "TimeAfterBootcamp            18220\n",
      "NonDeveloperType             17414\n",
      "WebDeveloperType             14816\n",
      "Salary                       14093\n",
      "Overpaid                     13918\n",
      "CousinEducation              12196\n",
      "HaveWorkedFramework          11808\n",
      "HoursPerWeek                 11381\n",
      "Currency                     11070\n",
      "InfluenceConsultants         10873\n",
      "InfluenceServers             10863\n",
      "InfluenceDeptTech            10859\n",
      "InfluenceCloud               10859\n",
      "InfluenceVizTools            10858\n",
      "InfluenceRecruitment         10858\n",
      "InfluenceCommunication       10852\n",
      "InfluenceTechStack           10849\n",
      "InfluenceDatabase            10847\n",
      "InfluenceWorkstation         10840\n",
      "                             ...  \n",
      "SurveyLong                    6299\n",
      "JobSeekingStatus              6250\n",
      "HighestEducationParents       6249\n",
      "Gender                        6192\n",
      "StackOverflowDevices          6156\n",
      "IDE                           5905\n",
      "AuditoryEnvironment           5651\n",
      "StackOverflowSatisfaction     5650\n",
      "WorkStart                     5579\n",
      "HaveWorkedLanguage            5576\n",
      "StackOverflowDescribes        5546\n",
      "DeveloperType                 5330\n",
      "TabsSpaces                    4797\n",
      "CompanyType                   4493\n",
      "CompanySize                   4449\n",
      "JobSatisfaction               3849\n",
      "ClickyKeys                    3744\n",
      "YearsCodedJob                 3711\n",
      "MajorUndergrad                3203\n",
      "CareerSatisfaction            3000\n",
      "HomeRemote                    2631\n",
      "PronounceGIF                   162\n",
      "YearsProgram                    97\n",
      "FormalEducation                  0\n",
      "EmploymentStatus                 0\n",
      "University                       0\n",
      "Country                          0\n",
      "ProgramHobby                     0\n",
      "Professional                     0\n",
      "Respondent                       0\n",
      "Length: 154, dtype: int64\n"
     ]
    }
   ],
   "source": [
    "na_val = df.isnull().sum().sort_values(ascending= False)\n",
    "print(na_val)"
   ]
  },
  {
   "cell_type": "code",
   "execution_count": 10,
   "metadata": {},
   "outputs": [],
   "source": [
    "na_val_p = na_val/df.shape[0]*100"
   ]
  },
  {
   "cell_type": "code",
   "execution_count": 11,
   "metadata": {},
   "outputs": [
    {
     "data": {
      "image/png": "[encoded data removed]",
      "text/plain": [
       "<matplotlib.figure.Figure at 0x7f410c98aa20>"
      ]
     },
     "metadata": {
      "needs_background": "light"
     },
     "output_type": "display_data"
    }
   ],
   "source": [
    "# Investigate patterns in the amount of missing data in each column.\n",
    "plt.hist(na_val_p, bins=20, range = (0, 100))\n",
    "\n",
    "plt.xlabel('Percentage of the column values that are missing')\n",
    "plt.ylabel('Number of columns in the dataset')\n",
    "plt.title('Histogram plot of column counts vs the percentage of missing values they contain')\n",
    "plt.grid(True)\n",
    "plt.show()"
   ]
  },
  {
   "cell_type": "markdown",
   "metadata": {},
   "source": [
    "It can be seen from above plot that most columns have a lot of the data missing, which aligns to my expectation of the dataset. However, I will decide on what to do with the missing values as I consider columns for each question of the analysis.\n",
    "\n",
    "It can also be seen that the following columns have no missing values:\n",
    "- FormalEducation                  \n",
    "- EmploymentStatus                 \n",
    "- University                       \n",
    "- Country                          \n",
    "- ProgramHobby                     \n",
    "- Professional           \n",
    "- Respondent (I assume this was populated automatically when the questionnaire was filled)"
   ]
  },
  {
   "cell_type": "markdown",
   "metadata": {},
   "source": [
    "There is a bigger picture assumption that I make here and that is that the survey results are representative of the world population. Even though that might not be 100% true in practice, it works to simplify the real-life scenario into one that can be successfully analysed. "
   ]
  },
  {
   "cell_type": "markdown",
   "metadata": {},
   "source": [
    "### Question 1: Which country has the most gender balance in the developer community?"
   ]
  },
  {
   "cell_type": "code",
   "execution_count": 12,
   "metadata": {},
   "outputs": [
    {
     "name": "stdout",
     "output_type": "stream",
     "text": [
      "1. The country column has 0.0% missing values\n"
     ]
    }
   ],
   "source": [
    "print('1. The country column has {}% missing values'.format(df['Country'].isnull().sum()/df.shape[0]*100))"
   ]
  },
  {
   "cell_type": "code",
   "execution_count": 14,
   "metadata": {},
   "outputs": [
    {
     "name": "stdout",
     "output_type": "stream",
     "text": [
      "2. The gender column has 32.415453879174954% missing values\n"
     ]
    }
   ],
   "source": [
    "print('2. The gender column has {}% missing values'.format(df['Gender'].isnull().sum()/df.shape[0]*100))"
   ]
  },
  {
   "cell_type": "code",
   "execution_count": 13,
   "metadata": {},
   "outputs": [],
   "source": [
    "#Seeing as I am basing my analysis on the gender variable, I will dropping the rows that have the gender feature missing for all the analysis:\n",
    "df_gender = df[pd.notnull(df['Gender'])]"
   ]
  },
  {
   "cell_type": "code",
   "execution_count": 14,
   "metadata": {},
   "outputs": [
    {
     "data": {
      "text/plain": [
       "12910"
      ]
     },
     "execution_count": 14,
     "metadata": {},
     "output_type": "execute_result"
    }
   ],
   "source": [
    "#Checking that the right number of rows remain (19102 - 6192)\n",
    "df_gender.shape[0]"
   ]
  },
  {
   "cell_type": "code",
   "execution_count": 15,
   "metadata": {},
   "outputs": [
    {
     "data": {
      "text/plain": [
       "array(['Male', 'Female', 'Gender non-conforming', 'Other',\n",
       "       'Male; Gender non-conforming', 'Female; Transgender',\n",
       "       'Male; Female', 'Male; Other', 'Transgender',\n",
       "       'Transgender; Gender non-conforming',\n",
       "       'Female; Gender non-conforming',\n",
       "       'Male; Female; Transgender; Gender non-conforming; Other',\n",
       "       'Male; Female; Transgender', 'Male; Female; Other',\n",
       "       'Male; Female; Transgender; Gender non-conforming',\n",
       "       'Male; Transgender', 'Female; Transgender; Gender non-conforming',\n",
       "       'Gender non-conforming; Other',\n",
       "       'Male; Female; Gender non-conforming', 'Female; Other'], dtype=object)"
      ]
     },
     "execution_count": 15,
     "metadata": {},
     "output_type": "execute_result"
    }
   ],
   "source": [
    "df_gender.Gender.unique()"
   ]
  },
  {
   "cell_type": "markdown",
   "metadata": {},
   "source": [
    "Seeing as there is a big variety of unique values in the Gender column, I am going to combine the values into 3 columns:\n",
    "    Male\n",
    "    Female\n",
    "    Other"
   ]
  },
  {
   "cell_type": "markdown",
   "metadata": {},
   "source": [
    "The following values will be recoded into 'Male':\n",
    "    1. Male\n",
    "    2. Male; Gender non-conforming\n",
    "    3. Male; Other\n",
    "    4. Male; Transgender"
   ]
  },
  {
   "cell_type": "markdown",
   "metadata": {},
   "source": [
    "The following values will be recoded into 'Female':\n",
    "    1. Female\n",
    "    2. Female; Transgender\n",
    "    3. Female; Gender non-conforming\n",
    "    4. Female; Transgender; Gender non-conforming\n",
    "    5. Female; Other"
   ]
  },
  {
   "cell_type": "markdown",
   "metadata": {},
   "source": [
    "The following values will be recoded into 'Other':\n",
    "    1. Gender non-conforming\n",
    "    2. Other\n",
    "    3. Male; Female\n",
    "    4. Transgender\n",
    "    5. Transgender; Gender non-conforming\n",
    "    6. Male; Female; Transgender; Gender non-conforming; Other\n",
    "    7. Male; Female; Transgender\n",
    "    8. Male; Female; Other\n",
    "    9. Male; Female; Transgender; Gender non-conforming\n",
    "    10. Gender non-conforming; Other\n",
    "    11. Male; Female; Gender non-conforming"
   ]
  },
  {
   "cell_type": "code",
   "execution_count": 16,
   "metadata": {},
   "outputs": [],
   "source": [
    "#Creating a dictionary for the above groupings:\n",
    "\n",
    "gender_dict = {'Male':'Male', 'Male; Gender non-conforming':'Male','Male; Other':'Male', 'Male; Transgender': 'Male',\n",
    "               'Female':'Female','Female; Transgender':'Female','Female; Gender non-conforming':'Female','Female; Transgender; Gender non-conforming':'Female','Female; Other':'Female',\n",
    "               'Other':'Other', 'Gender non-conforming':'Other','Male; Female':'Other','Transgender':'Other','Transgender; Gender non-conforming':'Other','Male; Female; Transgender; Gender non-conforming; Other':'Other','Male; Female; Transgender':'Other','Male; Female; Other':'Other','Male; Female; Transgender; Gender non-conforming':'Other','Gender non-conforming; Other':'Other','Male; Female; Gender non-conforming':'Other',}"
   ]
  },
  {
   "cell_type": "code",
   "execution_count": 17,
   "metadata": {},
   "outputs": [
    {
     "name": "stderr",
     "output_type": "stream",
     "text": [
      "/opt/conda/lib/python3.6/site-packages/ipykernel_launcher.py:1: SettingWithCopyWarning: \n",
      "A value is trying to be set on a copy of a slice from a DataFrame.\n",
      "Try using .loc[row_indexer,col_indexer] = value instead\n",
      "\n",
      "See the caveats in the documentation: http://pandas.pydata.org/pandas-docs/stable/indexing.html#indexing-view-versus-copy\n",
      "  \"\"\"Entry point for launching an IPython kernel.\n"
     ]
    }
   ],
   "source": [
    "df_gender['Gender_New'] = df_gender['Gender']"
   ]
  },
  {
   "cell_type": "code",
   "execution_count": 18,
   "metadata": {},
   "outputs": [
    {
     "name": "stderr",
     "output_type": "stream",
     "text": [
      "/opt/conda/lib/python3.6/site-packages/pandas/core/generic.py:5890: SettingWithCopyWarning: \n",
      "A value is trying to be set on a copy of a slice from a DataFrame\n",
      "\n",
      "See the caveats in the documentation: http://pandas.pydata.org/pandas-docs/stable/indexing.html#indexing-view-versus-copy\n",
      "  self._update_inplace(new_data)\n"
     ]
    }
   ],
   "source": [
    "df_gender['Gender_New'].replace(gender_dict,inplace = True)"
   ]
  },
  {
   "cell_type": "code",
   "execution_count": 19,
   "metadata": {},
   "outputs": [
    {
     "data": {
      "text/plain": [
       "array(['Male', 'Female', 'Other'], dtype=object)"
      ]
     },
     "execution_count": 19,
     "metadata": {},
     "output_type": "execute_result"
    }
   ],
   "source": [
    "#Checking that the mapping has worked, now should only have 3 unique values as per above\n",
    "df_gender.Gender_New.unique()"
   ]
  },
  {
   "cell_type": "code",
   "execution_count": 20,
   "metadata": {},
   "outputs": [
    {
     "data": {
      "text/plain": [
       "Country\n",
       "Afghanistan                4\n",
       "Aland Islands              2\n",
       "Albania                   13\n",
       "Algeria                    5\n",
       "Andorra                    3\n",
       "Antarctica                 1\n",
       "Argentina                 57\n",
       "Armenia                   19\n",
       "Australia                289\n",
       "Austria                  143\n",
       "Azerbaidjan                6\n",
       "Bangladesh                38\n",
       "Belarus                   16\n",
       "Belgium                  106\n",
       "Bermuda                    1\n",
       "Bolivia                    3\n",
       "Bosnia-Herzegovina        23\n",
       "Botswana                   3\n",
       "Brazil                   162\n",
       "Bulgaria                  76\n",
       "Cambodia                   1\n",
       "Cameroon                   1\n",
       "Canada                   627\n",
       "Cape Verde                 1\n",
       "Cayman Islands             1\n",
       "Chile                     26\n",
       "China                     65\n",
       "Colombia                  36\n",
       "Costa Rica                10\n",
       "Croatia                   58\n",
       "                        ... \n",
       "Serbia                    72\n",
       "Singapore                 37\n",
       "Slovak Republic           41\n",
       "Slovenia                 135\n",
       "Somalia                    1\n",
       "South Africa              85\n",
       "South Korea               30\n",
       "Spain                    201\n",
       "Sri Lanka                 36\n",
       "Sweden                   193\n",
       "Switzerland              168\n",
       "Syria                      1\n",
       "Taiwan                    29\n",
       "Tanzania                   2\n",
       "Thailand                  33\n",
       "Trinidad and Tobago        6\n",
       "Tunisia                   10\n",
       "Turkey                    72\n",
       "Uganda                     3\n",
       "Ukraine                  100\n",
       "United Arab Emirates      24\n",
       "United Kingdom          1053\n",
       "United States           3196\n",
       "Uruguay                   26\n",
       "Uzbekistan                 2\n",
       "Venezuela                 11\n",
       "Vietnam                   26\n",
       "Zaire                      1\n",
       "Zambia                     1\n",
       "Zimbabwe                   2\n",
       "Name: Respondent, Length: 147, dtype: int64"
      ]
     },
     "execution_count": 20,
     "metadata": {},
     "output_type": "execute_result"
    }
   ],
   "source": [
    "df_gender.groupby(['Country'])['Respondent'].count()"
   ]
  },
  {
   "cell_type": "markdown",
   "metadata": {},
   "source": [
    "It can be seen that there are a lot of countries with very few respondents. When the ratio of females is analysed later, they will sckew the results. Hence, I would like to concentrate on countries with more than 200 respondents."
   ]
  },
  {
   "cell_type": "code",
   "execution_count": 21,
   "metadata": {},
   "outputs": [],
   "source": [
    "# Removing countries with less than 200 respondents \n",
    "df_200 = df_gender['Country'].value_counts()\n",
    "df_200 = df_200[df_200>=200]\n",
    "df_200 = list(df_200.index)"
   ]
  },
  {
   "cell_type": "code",
   "execution_count": 22,
   "metadata": {},
   "outputs": [
    {
     "name": "stdout",
     "output_type": "stream",
     "text": [
      "A list of countries with more than 200 respondents that will be taken into futher analysis:['United States', 'United Kingdom', 'Germany', 'India', 'Canada', 'Poland', 'France', 'Australia', 'Netherlands', 'Israel', 'Russian Federation', 'Italy', 'Spain']\n"
     ]
    }
   ],
   "source": [
    "print('A list of countries with more than 200 respondents that will be taken into futher analysis:{}'.format(df_200))"
   ]
  },
  {
   "cell_type": "markdown",
   "metadata": {},
   "source": [
    "First, I would like to visualize the ratios of genders for each country chosen:"
   ]
  },
  {
   "cell_type": "code",
   "execution_count": 23,
   "metadata": {},
   "outputs": [],
   "source": [
    "df_plot = df_gender[df_gender['Country'].isin(df_200)]"
   ]
  },
  {
   "cell_type": "code",
   "execution_count": 24,
   "metadata": {},
   "outputs": [
    {
     "data": {
      "text/plain": [
       "<matplotlib.axes._subplots.AxesSubplot at 0x7f410c9466a0>"
      ]
     },
     "execution_count": 24,
     "metadata": {},
     "output_type": "execute_result"
    },
    {
     "data": {
      "image/png": "[encoded data removed]",
      "text/plain": [
       "<matplotlib.figure.Figure at 0x7f410c946390>"
      ]
     },
     "metadata": {
      "needs_background": "light"
     },
     "output_type": "display_data"
    }
   ],
   "source": [
    "plt.figure(figsize=[15,10])\n",
    "sns.countplot(y=\"Country\", hue=\"Gender_New\", data=df_plot)"
   ]
  },
  {
   "cell_type": "markdown",
   "metadata": {},
   "source": [
    "The above plot did not show anything unexpected: United states with their biggest number of respondents has also the highest number of female developers. However, this plot does not allow us to see which country has the highest *ratio* of females out of the pool of respondents for that country. For that, I will be creating a pivot table and creating a Female Percentage column (F_Percentage)"
   ]
  },
  {
   "cell_type": "code",
   "execution_count": 25,
   "metadata": {},
   "outputs": [],
   "source": [
    "#Create a pivot table\n",
    "pivot = pd.pivot_table(df_plot, values='Respondent', index=['Country'],columns=['Gender_New'], aggfunc={'Respondent':len}, fill_value = 0)\n",
    "df_pivot = pd.DataFrame(data = pivot)"
   ]
  },
  {
   "cell_type": "code",
   "execution_count": 26,
   "metadata": {},
   "outputs": [],
   "source": [
    "df_pivot['Sum'] = df_pivot.apply(lambda row: row['Male'] + row['Female'] + row['Other'], axis=1)\n",
    "df_pivot['F_Percentage'] = df_pivot.apply(lambda row: (row['Female']/row ['Sum'])*100, axis=1)\n",
    "df_q1 = df_pivot.round({'F_Percentage': 1, 'Sum': 0})\n",
    "df_final = df_q1.sort_values('F_Percentage', ascending=False)"
   ]
  },
  {
   "cell_type": "code",
   "execution_count": 27,
   "metadata": {},
   "outputs": [
    {
     "data": {
      "text/html": [
       "<div>\n",
       "<style scoped>\n",
       "    .dataframe tbody tr th:only-of-type {\n",
       "        vertical-align: middle;\n",
       "    }\n",
       "\n",
       "    .dataframe tbody tr th {\n",
       "        vertical-align: top;\n",
       "    }\n",
       "\n",
       "    .dataframe thead th {\n",
       "        text-align: right;\n",
       "    }\n",
       "</style>\n",
       "<table border=\"1\" class=\"dataframe\">\n",
       "  <thead>\n",
       "    <tr style=\"text-align: right;\">\n",
       "      <th>Gender_New</th>\n",
       "      <th>Female</th>\n",
       "      <th>Male</th>\n",
       "      <th>Other</th>\n",
       "      <th>Sum</th>\n",
       "      <th>F_Percentage</th>\n",
       "    </tr>\n",
       "    <tr>\n",
       "      <th>Country</th>\n",
       "      <th></th>\n",
       "      <th></th>\n",
       "      <th></th>\n",
       "      <th></th>\n",
       "      <th></th>\n",
       "    </tr>\n",
       "  </thead>\n",
       "  <tbody>\n",
       "    <tr>\n",
       "      <th>Canada</th>\n",
       "      <td>69</td>\n",
       "      <td>547</td>\n",
       "      <td>11</td>\n",
       "      <td>627</td>\n",
       "      <td>11.0</td>\n",
       "    </tr>\n",
       "    <tr>\n",
       "      <th>Poland</th>\n",
       "      <td>53</td>\n",
       "      <td>435</td>\n",
       "      <td>11</td>\n",
       "      <td>499</td>\n",
       "      <td>10.6</td>\n",
       "    </tr>\n",
       "    <tr>\n",
       "      <th>United States</th>\n",
       "      <td>326</td>\n",
       "      <td>2825</td>\n",
       "      <td>45</td>\n",
       "      <td>3196</td>\n",
       "      <td>10.2</td>\n",
       "    </tr>\n",
       "    <tr>\n",
       "      <th>India</th>\n",
       "      <td>72</td>\n",
       "      <td>702</td>\n",
       "      <td>4</td>\n",
       "      <td>778</td>\n",
       "      <td>9.3</td>\n",
       "    </tr>\n",
       "    <tr>\n",
       "      <th>Israel</th>\n",
       "      <td>21</td>\n",
       "      <td>203</td>\n",
       "      <td>1</td>\n",
       "      <td>225</td>\n",
       "      <td>9.3</td>\n",
       "    </tr>\n",
       "    <tr>\n",
       "      <th>United Kingdom</th>\n",
       "      <td>85</td>\n",
       "      <td>956</td>\n",
       "      <td>12</td>\n",
       "      <td>1053</td>\n",
       "      <td>8.1</td>\n",
       "    </tr>\n",
       "    <tr>\n",
       "      <th>Australia</th>\n",
       "      <td>20</td>\n",
       "      <td>263</td>\n",
       "      <td>6</td>\n",
       "      <td>289</td>\n",
       "      <td>6.9</td>\n",
       "    </tr>\n",
       "    <tr>\n",
       "      <th>Germany</th>\n",
       "      <td>69</td>\n",
       "      <td>920</td>\n",
       "      <td>14</td>\n",
       "      <td>1003</td>\n",
       "      <td>6.9</td>\n",
       "    </tr>\n",
       "    <tr>\n",
       "      <th>France</th>\n",
       "      <td>24</td>\n",
       "      <td>337</td>\n",
       "      <td>7</td>\n",
       "      <td>368</td>\n",
       "      <td>6.5</td>\n",
       "    </tr>\n",
       "    <tr>\n",
       "      <th>Spain</th>\n",
       "      <td>13</td>\n",
       "      <td>188</td>\n",
       "      <td>0</td>\n",
       "      <td>201</td>\n",
       "      <td>6.5</td>\n",
       "    </tr>\n",
       "    <tr>\n",
       "      <th>Russian Federation</th>\n",
       "      <td>13</td>\n",
       "      <td>195</td>\n",
       "      <td>5</td>\n",
       "      <td>213</td>\n",
       "      <td>6.1</td>\n",
       "    </tr>\n",
       "    <tr>\n",
       "      <th>Netherlands</th>\n",
       "      <td>13</td>\n",
       "      <td>266</td>\n",
       "      <td>4</td>\n",
       "      <td>283</td>\n",
       "      <td>4.6</td>\n",
       "    </tr>\n",
       "    <tr>\n",
       "      <th>Italy</th>\n",
       "      <td>5</td>\n",
       "      <td>197</td>\n",
       "      <td>1</td>\n",
       "      <td>203</td>\n",
       "      <td>2.5</td>\n",
       "    </tr>\n",
       "  </tbody>\n",
       "</table>\n",
       "</div>"
      ],
      "text/plain": [
       "Gender_New          Female  Male  Other   Sum  F_Percentage\n",
       "Country                                                    \n",
       "Canada                  69   547     11   627          11.0\n",
       "Poland                  53   435     11   499          10.6\n",
       "United States          326  2825     45  3196          10.2\n",
       "India                   72   702      4   778           9.3\n",
       "Israel                  21   203      1   225           9.3\n",
       "United Kingdom          85   956     12  1053           8.1\n",
       "Australia               20   263      6   289           6.9\n",
       "Germany                 69   920     14  1003           6.9\n",
       "France                  24   337      7   368           6.5\n",
       "Spain                   13   188      0   201           6.5\n",
       "Russian Federation      13   195      5   213           6.1\n",
       "Netherlands             13   266      4   283           4.6\n",
       "Italy                    5   197      1   203           2.5"
      ]
     },
     "execution_count": 27,
     "metadata": {},
     "output_type": "execute_result"
    }
   ],
   "source": [
    "df_final"
   ]
  },
  {
   "cell_type": "code",
   "execution_count": 28,
   "metadata": {},
   "outputs": [],
   "source": [
    "df_final.to_csv('gender_countries.csv')"
   ]
  },
  {
   "cell_type": "markdown",
   "metadata": {},
   "source": [
    "It can be seen from the table above that Canada has 11% of the respondents being Female, with Poland and United States coming in close 2 and 3 with 10.6% and 10.2 % respectively.\n",
    "\n",
    "I am pleasantly surprised with Poland's and India's position in this list, because I expected United States and the UK to be at the top of the list. "
   ]
  },
  {
   "cell_type": "markdown",
   "metadata": {},
   "source": [
    "### Question 2: Does job satisfaction differ amongst genders?"
   ]
  },
  {
   "cell_type": "markdown",
   "metadata": {},
   "source": [
    "To answer this question I will be examining:\n",
    "    1. Column 'Gender_New' from df_gender\n",
    "    2. 'JobSatisfaction' column from df_gender"
   ]
  },
  {
   "cell_type": "code",
   "execution_count": 29,
   "metadata": {},
   "outputs": [
    {
     "data": {
      "text/plain": [
       "Gender_New\n",
       "Female     1013\n",
       "Male      11729\n",
       "Other       168\n",
       "Name: Respondent, dtype: int64"
      ]
     },
     "execution_count": 29,
     "metadata": {},
     "output_type": "execute_result"
    }
   ],
   "source": [
    "df_gender.groupby(['Gender_New'])['Respondent'].count()"
   ]
  },
  {
   "cell_type": "code",
   "execution_count": 30,
   "metadata": {},
   "outputs": [],
   "source": [
    "d = {'Gender_New': ['Female','Male', 'Other'], 'Num': [1013,11729,168], 'Percentage': [7.8,90.8,1.3]}\n",
    "df_dis = pd.DataFrame(data=d)"
   ]
  },
  {
   "cell_type": "code",
   "execution_count": 31,
   "metadata": {},
   "outputs": [
    {
     "data": {
      "text/html": [
       "<div>\n",
       "<style scoped>\n",
       "    .dataframe tbody tr th:only-of-type {\n",
       "        vertical-align: middle;\n",
       "    }\n",
       "\n",
       "    .dataframe tbody tr th {\n",
       "        vertical-align: top;\n",
       "    }\n",
       "\n",
       "    .dataframe thead th {\n",
       "        text-align: right;\n",
       "    }\n",
       "</style>\n",
       "<table border=\"1\" class=\"dataframe\">\n",
       "  <thead>\n",
       "    <tr style=\"text-align: right;\">\n",
       "      <th></th>\n",
       "      <th>Gender_New</th>\n",
       "      <th>Num</th>\n",
       "      <th>Percentage</th>\n",
       "    </tr>\n",
       "  </thead>\n",
       "  <tbody>\n",
       "    <tr>\n",
       "      <th>0</th>\n",
       "      <td>Female</td>\n",
       "      <td>1013</td>\n",
       "      <td>7.8</td>\n",
       "    </tr>\n",
       "    <tr>\n",
       "      <th>1</th>\n",
       "      <td>Male</td>\n",
       "      <td>11729</td>\n",
       "      <td>90.8</td>\n",
       "    </tr>\n",
       "    <tr>\n",
       "      <th>2</th>\n",
       "      <td>Other</td>\n",
       "      <td>168</td>\n",
       "      <td>1.3</td>\n",
       "    </tr>\n",
       "  </tbody>\n",
       "</table>\n",
       "</div>"
      ],
      "text/plain": [
       "  Gender_New    Num  Percentage\n",
       "0     Female   1013         7.8\n",
       "1       Male  11729        90.8\n",
       "2      Other    168         1.3"
      ]
     },
     "execution_count": 31,
     "metadata": {},
     "output_type": "execute_result"
    }
   ],
   "source": [
    "df_dis"
   ]
  },
  {
   "cell_type": "code",
   "execution_count": 32,
   "metadata": {},
   "outputs": [
    {
     "data": {
      "text/plain": [
       "Text(0.5,1,'The distibution of respondents by Genders')"
      ]
     },
     "execution_count": 32,
     "metadata": {},
     "output_type": "execute_result"
    },
    {
     "data": {
      "image/png": "[encoded data removed]",
      "text/plain": [
       "<matplotlib.figure.Figure at 0x7f410c95ab70>"
      ]
     },
     "metadata": {
      "needs_background": "light"
     },
     "output_type": "display_data"
    }
   ],
   "source": [
    "pyplot.bar(df_dis['Gender_New'], df_dis['Percentage'], color = 'c')\n",
    "pyplot.ylabel('Percentage of the dataset')\n",
    "pyplot.title('The distibution of respondents by Genders')"
   ]
  },
  {
   "cell_type": "markdown",
   "metadata": {},
   "source": [
    "Seeing as 'Other' gender category makes up such a small amount of respondents(1.3% of those who answered to the Gender question), it would not be statistically relevant to include them in the analysis. Hence, rows with 'Other' category in 'Gender_New' column will be dropped.\n"
   ]
  },
  {
   "cell_type": "code",
   "execution_count": 33,
   "metadata": {},
   "outputs": [],
   "source": [
    "#Dropping rows where Gender_new is 'other'\n",
    "df_gen = df_gender[df_gender.Gender_New != 'Other']"
   ]
  },
  {
   "cell_type": "code",
   "execution_count": 34,
   "metadata": {},
   "outputs": [
    {
     "data": {
      "text/plain": [
       "12742"
      ]
     },
     "execution_count": 34,
     "metadata": {},
     "output_type": "execute_result"
    }
   ],
   "source": [
    "#Checking that number of rows is as expected (12910 - 168)\n",
    "df_gen.shape[0]"
   ]
  },
  {
   "cell_type": "markdown",
   "metadata": {},
   "source": [
    "I want to check how many missing values there are in the 'Jobsatisfaction' column, and if makes up a space propotion of the dataset, delete them from the dataset\n"
   ]
  },
  {
   "cell_type": "code",
   "execution_count": 35,
   "metadata": {},
   "outputs": [
    {
     "data": {
      "text/plain": [
       "1972"
      ]
     },
     "execution_count": 35,
     "metadata": {},
     "output_type": "execute_result"
    }
   ],
   "source": [
    "df_gen['JobSatisfaction'].isnull().sum()"
   ]
  },
  {
   "cell_type": "code",
   "execution_count": 36,
   "metadata": {},
   "outputs": [],
   "source": [
    "#Dropping the missng values\n",
    "df_gen_js = df_gen.dropna(subset=['JobSatisfaction'])"
   ]
  },
  {
   "cell_type": "code",
   "execution_count": 37,
   "metadata": {},
   "outputs": [
    {
     "data": {
      "text/plain": [
       "10770"
      ]
     },
     "execution_count": 37,
     "metadata": {},
     "output_type": "execute_result"
    }
   ],
   "source": [
    "#Checking that the right amount of rows got removed (12742-1972)\n",
    "df_gen_js.shape[0]"
   ]
  },
  {
   "cell_type": "code",
   "execution_count": 38,
   "metadata": {},
   "outputs": [
    {
     "data": {
      "text/plain": [
       "array([  9.,   3.,   6.,   7.,   8.,   5.,   4.,  10.,   2.,   0.,   1.])"
      ]
     },
     "execution_count": 38,
     "metadata": {},
     "output_type": "execute_result"
    }
   ],
   "source": [
    "#Examining the JobSatisfaction column values:\n",
    "df_gen_js.JobSatisfaction.unique()"
   ]
  },
  {
   "cell_type": "code",
   "execution_count": 39,
   "metadata": {},
   "outputs": [
    {
     "data": {
      "text/plain": [
       "JobSatisfaction\n",
       "0.0       88\n",
       "1.0       85\n",
       "2.0      211\n",
       "3.0      410\n",
       "4.0      448\n",
       "5.0      907\n",
       "6.0     1196\n",
       "7.0     2224\n",
       "8.0     2570\n",
       "9.0     1610\n",
       "10.0    1021\n",
       "Name: Respondent, dtype: int64"
      ]
     },
     "execution_count": 39,
     "metadata": {},
     "output_type": "execute_result"
    }
   ],
   "source": [
    "df_gen_js.groupby(['JobSatisfaction'])['Respondent'].count()"
   ]
  },
  {
   "cell_type": "code",
   "execution_count": 40,
   "metadata": {},
   "outputs": [
    {
     "data": {
      "text/plain": [
       "array([[<matplotlib.axes._subplots.AxesSubplot object at 0x7f410a567400>]], dtype=object)"
      ]
     },
     "execution_count": 40,
     "metadata": {},
     "output_type": "execute_result"
    },
    {
     "data": {
      "image/png": "[encoded data removed]",
      "text/plain": [
       "<matplotlib.figure.Figure at 0x7f410a5750b8>"
      ]
     },
     "metadata": {
      "needs_background": "light"
     },
     "output_type": "display_data"
    }
   ],
   "source": [
    "df_gen_js.hist(column='JobSatisfaction', color = 'coral')"
   ]
  },
  {
   "cell_type": "markdown",
   "metadata": {},
   "source": [
    "We can see that there are more respondents that have chosen higher values of JobSatisfaction. Let's examine if there are any significant differences when split by Male and Female genders\n"
   ]
  },
  {
   "cell_type": "code",
   "execution_count": 41,
   "metadata": {},
   "outputs": [
    {
     "data": {
      "text/plain": [
       "Gender_New\n",
       "Female     821\n",
       "Male      9949\n",
       "Name: Respondent, dtype: int64"
      ]
     },
     "execution_count": 41,
     "metadata": {},
     "output_type": "execute_result"
    }
   ],
   "source": [
    "#Let's confirm the number of respondents in the two groups\n",
    "df_gen_js.groupby(['Gender_New'])['Respondent'].count()"
   ]
  },
  {
   "cell_type": "markdown",
   "metadata": {},
   "source": [
    "I am going to perform a Two-sample Kolmogorov–Smirnov test on the Male and Female populations and see if their Job Satisfaction is of the same distibution. This test performs well on inbalanced sample sizes so will be appropriate here:"
   ]
  },
  {
   "cell_type": "code",
   "execution_count": 42,
   "metadata": {},
   "outputs": [],
   "source": [
    "df_male_js = df_gen_js[df_gen_js['Gender_New']=='Male']\n",
    "df_female_js = df_gen_js[df_gen_js['Gender_New']=='Female']"
   ]
  },
  {
   "cell_type": "code",
   "execution_count": 43,
   "metadata": {},
   "outputs": [],
   "source": [
    "df_m_js = df_male_js['JobSatisfaction']\n",
    "df_f_js = df_female_js['JobSatisfaction']"
   ]
  },
  {
   "cell_type": "markdown",
   "metadata": {},
   "source": [
    "Null Hypothesis: The average Job Satisfcation difference between Males and Females is equal to zero.\n",
    "\n",
    "Alternative Hypothesis: There is a difference in Job Satisfcation between the two groups"
   ]
  },
  {
   "cell_type": "code",
   "execution_count": 44,
   "metadata": {},
   "outputs": [
    {
     "data": {
      "text/plain": [
       "Ks_2sampResult(statistic=0.015835327772125041, pvalue=0.99076455668030028)"
      ]
     },
     "execution_count": 44,
     "metadata": {},
     "output_type": "execute_result"
    }
   ],
   "source": [
    "stats.ks_2samp(df_m_js,df_f_js)"
   ]
  },
  {
   "cell_type": "markdown",
   "metadata": {},
   "source": [
    "Seeing as the p-value so big, we can conclude that the distribution of the two groups is almost identical, and hence the Null hypothesis cannot be rejected. I would liek to also visualize the resutls:"
   ]
  },
  {
   "cell_type": "code",
   "execution_count": 45,
   "metadata": {},
   "outputs": [
    {
     "data": {
      "image/png": "[encoded data removed]",
      "text/plain": [
       "<matplotlib.figure.Figure at 0x7f410a4b5080>"
      ]
     },
     "metadata": {
      "needs_background": "light"
     },
     "output_type": "display_data"
    }
   ],
   "source": [
    "bins = np.linspace(0, 10, 20)\n",
    "\n",
    "plt.figure(figsize=[15,10])\n",
    "pyplot.hist(df_m_js, bins, alpha=0.5, label='M', color = 'darkmagenta')\n",
    "pyplot.hist(df_f_js, bins, alpha=0.5, label='F',color = 'lightseagreen')\n",
    "pyplot.legend(loc='upper left')\n",
    "pyplot.title('Distribution of Job Satisfaction by Gender')\n",
    "pyplot.xlabel('0 to 10 scale of Job Satisfaction')\n",
    "pyplot.ylabel('Number of respondents')\n",
    "pyplot.show()"
   ]
  },
  {
   "cell_type": "markdown",
   "metadata": {},
   "source": [
    "We can conclude that Job Satisfaction does not differ between Male and Female groups. "
   ]
  },
  {
   "cell_type": "markdown",
   "metadata": {},
   "source": [
    "### Question 3: What are the features most correlated with predicting the respondent's gender?"
   ]
  },
  {
   "cell_type": "markdown",
   "metadata": {},
   "source": [
    "I will be taking the dataset where the gender column has been split into Male, Female and the rows with values 'Other' have been dropped. This is due to the fact that I would like to use classifiers which require a binary target output. "
   ]
  },
  {
   "cell_type": "markdown",
   "metadata": {},
   "source": [
    "The following columns will be used in the analysis:\n",
    "1. 'CareerSatisfaction'\n",
    "2. 'FormalEducation', \n",
    "3. 'MajorUndergrad',\n",
    "4. 'HomeRemote',\n",
    "5. 'EmploymentStatus',\n",
    "6. 'CompanyType',\n",
    "7. 'YearsProgram',\n",
    "8. 'YearsCodedJob',\n",
    "9. 'UnderstandComputers',\n",
    "10. 'HoursPerWeek'"
   ]
  },
  {
   "cell_type": "markdown",
   "metadata": {},
   "source": [
    "The columns have been considered but will nto be included:\n",
    "    1. Professional - only one value of 'Professional developer' present\n",
    "    2. University - dispropotionaly the answer is No, and I would expect that current students will have much lower salary\n",
    "    3. Salary - too many rows had missing values"
   ]
  },
  {
   "cell_type": "markdown",
   "metadata": {},
   "source": [
    "\n",
    "###### Data Preprocessing"
   ]
  },
  {
   "cell_type": "code",
   "execution_count": 46,
   "metadata": {},
   "outputs": [],
   "source": [
    "df_sal = df_gen[[\n",
    "'Gender_New',\n",
    "'FormalEducation', \n",
    "'MajorUndergrad',\n",
    "'HomeRemote',\n",
    "'EmploymentStatus',\n",
    "'CompanyType',\n",
    "'YearsProgram',\n",
    "'YearsCodedJob',\n",
    "'UnderstandComputers',\n",
    "'HoursPerWeek',\n",
    "'CareerSatisfaction']]"
   ]
  },
  {
   "cell_type": "code",
   "execution_count": 47,
   "metadata": {},
   "outputs": [],
   "source": [
    "# Converting FormalEducation to numerical\n",
    "df_sal = df_sal.replace({'Gender_New': {\"Male\": 1, \n",
    "                                        \"Female\": 0}})"
   ]
  },
  {
   "cell_type": "code",
   "execution_count": 48,
   "metadata": {},
   "outputs": [],
   "source": [
    "# Converting YearsProgram to numerical\n",
    "df_sal = df_sal.replace({'YearsProgram': {'Less than a year':1,\n",
    "                                          '1 to 2 years': 1,\n",
    "                                          '2 to 3 years': 1,\n",
    "                                          '3 to 4 years': 1,\n",
    "                                          '4 to 5 years': 1,\n",
    "                                          '5 to 6 years': 2,\n",
    "                                          '6 to 7 years': 2,\n",
    "                                          '7 to 8 years': 2,\n",
    "                                          '8 to 9 years': 2,\n",
    "                                          '9 to 10 years': 2,\n",
    "                                          '10 to 11 years': 3,\n",
    "                                          '11 to 12 years': 3,\n",
    "                                          '12 to 13 years': 3,\n",
    "                                          '13 to 14 years': 3,\n",
    "                                          '14 to 15 years': 3,\n",
    "                                          '15 to 16 years': 4,\n",
    "                                          '16 to 17 years': 4,\n",
    "                                          '17 to 18 years': 4,\n",
    "                                          '18 to 19 years': 4,\n",
    "                                          '19 to 20 years': 4,\n",
    "                                          '20 or more years': 5}})"
   ]
  },
  {
   "cell_type": "code",
   "execution_count": 49,
   "metadata": {},
   "outputs": [],
   "source": [
    "#One hot encoding the YearsProgram column\n",
    "df_sal.loc[df_sal['YearsProgram'] == 1, 'YearsProgram0_5'] = 1\n",
    "df_sal.loc[df_sal['YearsProgram'] == 2, 'YearsProgram5_10'] = 1\n",
    "df_sal.loc[df_sal['YearsProgram'] == 3, 'YearsProgram10_15'] = 1\n",
    "df_sal.loc[df_sal['YearsProgram'] == 4, 'YearsProgram15_20'] = 1\n",
    "df_sal.loc[df_sal['YearsProgram'] == 5, 'YearsProgram20+'] = 1"
   ]
  },
  {
   "cell_type": "code",
   "execution_count": 50,
   "metadata": {},
   "outputs": [],
   "source": [
    "df_sal['YearsProgram0_5'].fillna(0, inplace=True)\n",
    "df_sal['YearsProgram5_10'].fillna(0, inplace=True)\n",
    "df_sal['YearsProgram10_15'].fillna(0, inplace=True)\n",
    "df_sal['YearsProgram15_20'].fillna(0, inplace=True)\n",
    "df_sal['YearsProgram20+'].fillna(0, inplace=True)"
   ]
  },
  {
   "cell_type": "code",
   "execution_count": 51,
   "metadata": {},
   "outputs": [],
   "source": [
    "# Converting YearsCodedJob to numerical\n",
    "df_sal = df_sal.replace({'YearsCodedJob': {'Less than a year':1,\n",
    "                                          '1 to 2 years': 1,\n",
    "                                          '2 to 3 years': 1,\n",
    "                                          '3 to 4 years': 1,\n",
    "                                          '4 to 5 years': 1,\n",
    "                                          '5 to 6 years': 2,\n",
    "                                          '6 to 7 years': 2,\n",
    "                                          '7 to 8 years': 2,\n",
    "                                          '8 to 9 years': 2,\n",
    "                                          '9 to 10 years': 2,\n",
    "                                          '10 to 11 years': 3,\n",
    "                                          '11 to 12 years': 3,\n",
    "                                          '12 to 13 years': 3,\n",
    "                                          '13 to 14 years': 3,\n",
    "                                          '14 to 15 years': 3,\n",
    "                                          '15 to 16 years': 4,\n",
    "                                          '16 to 17 years': 4,\n",
    "                                          '17 to 18 years': 4,\n",
    "                                          '18 to 19 years': 4,\n",
    "                                          '19 to 20 years': 4,\n",
    "                                          '20 or more years': 5}})"
   ]
  },
  {
   "cell_type": "code",
   "execution_count": 52,
   "metadata": {},
   "outputs": [],
   "source": [
    "#One hot encoding the YearsCodedJob column\n",
    "df_sal.loc[df_sal['YearsCodedJob'] == 1, 'YearsCodedJob0_5'] = 1\n",
    "df_sal.loc[df_sal['YearsCodedJob'] == 2, 'YearsCodedJob5_10'] = 1\n",
    "df_sal.loc[df_sal['YearsCodedJob'] == 3, 'YearsCodedJob10_15'] = 1\n",
    "df_sal.loc[df_sal['YearsCodedJob'] == 4, 'YearsCodedJob15_20'] = 1\n",
    "df_sal.loc[df_sal['YearsCodedJob'] == 5, 'YearsCodedJob20+'] = 1"
   ]
  },
  {
   "cell_type": "code",
   "execution_count": 53,
   "metadata": {},
   "outputs": [],
   "source": [
    "df_sal['YearsCodedJob0_5'].fillna(0, inplace=True)\n",
    "df_sal['YearsCodedJob5_10'].fillna(0, inplace=True)\n",
    "df_sal['YearsCodedJob10_15'].fillna(0, inplace=True)\n",
    "df_sal['YearsCodedJob15_20'].fillna(0, inplace=True)\n",
    "df_sal['YearsCodedJob20+'].fillna(0, inplace=True)"
   ]
  },
  {
   "cell_type": "code",
   "execution_count": 54,
   "metadata": {},
   "outputs": [],
   "source": [
    "#Dropping the original columns\n",
    "df_sal = df_sal.drop(['YearsProgram', 'YearsCodedJob'], axis=1)"
   ]
  },
  {
   "cell_type": "code",
   "execution_count": 55,
   "metadata": {},
   "outputs": [],
   "source": [
    "# Fill NaN with mode for each column\n",
    "df_sal = df_sal.fillna(df_sal.mode())"
   ]
  },
  {
   "cell_type": "code",
   "execution_count": 56,
   "metadata": {},
   "outputs": [],
   "source": [
    "df_sal = df_sal.dropna()"
   ]
  },
  {
   "cell_type": "code",
   "execution_count": 57,
   "metadata": {},
   "outputs": [
    {
     "data": {
      "text/plain": [
       "Gender_New             0\n",
       "FormalEducation        0\n",
       "MajorUndergrad         0\n",
       "HomeRemote             0\n",
       "EmploymentStatus       0\n",
       "CompanyType            0\n",
       "UnderstandComputers    0\n",
       "HoursPerWeek           0\n",
       "CareerSatisfaction     0\n",
       "YearsProgram0_5        0\n",
       "YearsProgram5_10       0\n",
       "YearsProgram10_15      0\n",
       "YearsProgram15_20      0\n",
       "YearsProgram20+        0\n",
       "YearsCodedJob0_5       0\n",
       "YearsCodedJob5_10      0\n",
       "YearsCodedJob10_15     0\n",
       "YearsCodedJob15_20     0\n",
       "YearsCodedJob20+       0\n",
       "dtype: int64"
      ]
     },
     "execution_count": 57,
     "metadata": {},
     "output_type": "execute_result"
    }
   ],
   "source": [
    "#Checking that there are no NaN values\n",
    "df_sal.isnull().sum()"
   ]
  },
  {
   "cell_type": "code",
   "execution_count": 58,
   "metadata": {},
   "outputs": [],
   "source": [
    "# Split the data into features and target label\n",
    "features_raw = df_sal.drop('Gender_New', axis = 1)\n",
    "target = df_sal['Gender_New']"
   ]
  },
  {
   "cell_type": "code",
   "execution_count": 59,
   "metadata": {},
   "outputs": [],
   "source": [
    "features_final = pd.get_dummies(features_raw)"
   ]
  },
  {
   "cell_type": "code",
   "execution_count": 60,
   "metadata": {},
   "outputs": [],
   "source": [
    "# Split the 'features' and 'target' data into training and testing sets\n",
    "X_train, X_test, y_train, y_test = train_test_split(features_final, \n",
    "                                                    target, \n",
    "                                                    test_size = 0.2, \n",
    "                                                    random_state = 1)"
   ]
  },
  {
   "cell_type": "code",
   "execution_count": 61,
   "metadata": {},
   "outputs": [
    {
     "name": "stdout",
     "output_type": "stream",
     "text": [
      "Training set has 2428 samples.\n",
      "Testing set has 608 samples.\n"
     ]
    }
   ],
   "source": [
    "# Show the results of the split\n",
    "print(\"Training set has {} samples.\".format(X_train.shape[0]))\n",
    "print(\"Testing set has {} samples.\".format(X_test.shape[0]))"
   ]
  },
  {
   "cell_type": "code",
   "execution_count": 62,
   "metadata": {},
   "outputs": [],
   "source": [
    "def train_predict(learner, X_train, y_train, X_test, y_test): \n",
    "    '''\n",
    "    inputs:\n",
    "       - learner: the learning algorithm to be trained and predicted on\n",
    "       - X_train: features training set\n",
    "       - y_train: income training set\n",
    "       - X_test: features testing set\n",
    "       - y_test: income testing set\n",
    "    '''\n",
    "    \n",
    "    results = {}\n",
    "    \n",
    "    learner = learner.fit(X_train, y_train)\n",
    "    predictions_test = learner.predict(X_test)\n",
    "    predictions_train = learner.predict(X_train[:300])\n",
    "    \n",
    "    # Compute accuracy on the first 300 training samples which is y_train[:300]\n",
    "    results['acc_train'] = accuracy_score(y_train[:300], predictions_train)\n",
    "        \n",
    "    # Compute accuracy on test set using accuracy_score()\n",
    "    results['acc_test'] = accuracy_score(y_test, predictions_test)\n",
    "    \n",
    "    # Compute F-score on the the first 300 training samples using fbeta_score()\n",
    "    results['f_train'] = f1_score(y_train[:300], predictions_train)\n",
    "        \n",
    "    # Compute F-score on the test set which is y_test\n",
    "    results['f_test'] = f1_score(y_test, predictions_test)\n",
    "       \n",
    "        \n",
    "    # Return the results\n",
    "    return results"
   ]
  },
  {
   "cell_type": "code",
   "execution_count": 69,
   "metadata": {},
   "outputs": [
    {
     "data": {
      "text/plain": [
       "{'acc_train': 1.0,\n",
       " 'acc_test': 0.82565789473684215,\n",
       " 'f_train': 1.0,\n",
       " 'f_test': 0.90381125226860259}"
      ]
     },
     "execution_count": 69,
     "metadata": {},
     "output_type": "execute_result"
    }
   ],
   "source": [
    "dt_model = tree.DecisionTreeClassifier(random_state=27)\n",
    "train_predict(dt_model, X_train, y_train, X_test, y_test)"
   ]
  },
  {
   "cell_type": "code",
   "execution_count": 70,
   "metadata": {},
   "outputs": [
    {
     "data": {
      "text/plain": [
       "{'acc_train': 0.92666666666666664,\n",
       " 'acc_test': 0.91611842105263153,\n",
       " 'f_train': 0.96193771626297575,\n",
       " 'f_test': 0.95622317596566531}"
      ]
     },
     "execution_count": 70,
     "metadata": {},
     "output_type": "execute_result"
    }
   ],
   "source": [
    "lg_model = LogisticRegression(random_state=27)\n",
    "train_predict(lg_model, X_train, y_train, X_test, y_test)"
   ]
  },
  {
   "cell_type": "code",
   "execution_count": 71,
   "metadata": {},
   "outputs": [
    {
     "data": {
      "text/plain": [
       "{'acc_train': 0.92333333333333334,\n",
       " 'acc_test': 0.91447368421052633,\n",
       " 'f_train': 0.96013864818024275,\n",
       " 'f_test': 0.95524956970740094}"
      ]
     },
     "execution_count": 71,
     "metadata": {},
     "output_type": "execute_result"
    }
   ],
   "source": [
    "ab_model = AdaBoostClassifier(random_state=27)\n",
    "train_predict(ab_model, X_train, y_train, X_test, y_test)"
   ]
  },
  {
   "cell_type": "markdown",
   "metadata": {},
   "source": [
    "##### Visualize"
   ]
  },
  {
   "cell_type": "code",
   "execution_count": 72,
   "metadata": {},
   "outputs": [],
   "source": [
    "coefficients = pd.concat([pd.DataFrame({'Feature': features_final.columns}),\n",
    "                          pd.DataFrame(np.transpose(lg_model.coef_))], axis = 1)"
   ]
  },
  {
   "cell_type": "code",
   "execution_count": 73,
   "metadata": {},
   "outputs": [],
   "source": [
    "coefficients.rename(columns={0:'Coeficient'}, inplace=True)"
   ]
  },
  {
   "cell_type": "code",
   "execution_count": 74,
   "metadata": {},
   "outputs": [
    {
     "data": {
      "text/html": [
       "<div>\n",
       "<style scoped>\n",
       "    .dataframe tbody tr th:only-of-type {\n",
       "        vertical-align: middle;\n",
       "    }\n",
       "\n",
       "    .dataframe tbody tr th {\n",
       "        vertical-align: top;\n",
       "    }\n",
       "\n",
       "    .dataframe thead th {\n",
       "        text-align: right;\n",
       "    }\n",
       "</style>\n",
       "<table border=\"1\" class=\"dataframe\">\n",
       "  <thead>\n",
       "    <tr style=\"text-align: right;\">\n",
       "      <th></th>\n",
       "      <th>Feature</th>\n",
       "      <th>Coeficient</th>\n",
       "    </tr>\n",
       "  </thead>\n",
       "  <tbody>\n",
       "    <tr>\n",
       "      <th>17</th>\n",
       "      <td>FormalEducation_Some college/university study ...</td>\n",
       "      <td>1.128779</td>\n",
       "    </tr>\n",
       "    <tr>\n",
       "      <th>25</th>\n",
       "      <td>MajorUndergrad_Computer programming or Web dev...</td>\n",
       "      <td>1.105660</td>\n",
       "    </tr>\n",
       "    <tr>\n",
       "      <th>22</th>\n",
       "      <td>MajorUndergrad_A non-computer-focused engineer...</td>\n",
       "      <td>0.973266</td>\n",
       "    </tr>\n",
       "    <tr>\n",
       "      <th>42</th>\n",
       "      <td>EmploymentStatus_Employed part-time</td>\n",
       "      <td>0.894049</td>\n",
       "    </tr>\n",
       "    <tr>\n",
       "      <th>6</th>\n",
       "      <td>YearsProgram20+</td>\n",
       "      <td>0.746918</td>\n",
       "    </tr>\n",
       "    <tr>\n",
       "      <th>59</th>\n",
       "      <td>UnderstandComputers_Strongly disagree</td>\n",
       "      <td>0.681295</td>\n",
       "    </tr>\n",
       "    <tr>\n",
       "      <th>53</th>\n",
       "      <td>CompanyType_State-owned company</td>\n",
       "      <td>0.676894</td>\n",
       "    </tr>\n",
       "    <tr>\n",
       "      <th>38</th>\n",
       "      <td>HomeRemote_Less than half the time, but at lea...</td>\n",
       "      <td>0.593341</td>\n",
       "    </tr>\n",
       "    <tr>\n",
       "      <th>10</th>\n",
       "      <td>YearsCodedJob15_20</td>\n",
       "      <td>0.588030</td>\n",
       "    </tr>\n",
       "    <tr>\n",
       "      <th>40</th>\n",
       "      <td>HomeRemote_Never</td>\n",
       "      <td>0.514711</td>\n",
       "    </tr>\n",
       "    <tr>\n",
       "      <th>5</th>\n",
       "      <td>YearsProgram15_20</td>\n",
       "      <td>0.512253</td>\n",
       "    </tr>\n",
       "    <tr>\n",
       "      <th>19</th>\n",
       "      <td>MajorUndergrad_A health science</td>\n",
       "      <td>0.477692</td>\n",
       "    </tr>\n",
       "    <tr>\n",
       "      <th>30</th>\n",
       "      <td>MajorUndergrad_Management information systems</td>\n",
       "      <td>0.465205</td>\n",
       "    </tr>\n",
       "    <tr>\n",
       "      <th>56</th>\n",
       "      <td>UnderstandComputers_Disagree</td>\n",
       "      <td>0.431522</td>\n",
       "    </tr>\n",
       "    <tr>\n",
       "      <th>54</th>\n",
       "      <td>CompanyType_Venture-funded startup</td>\n",
       "      <td>0.425329</td>\n",
       "    </tr>\n",
       "    <tr>\n",
       "      <th>9</th>\n",
       "      <td>YearsCodedJob10_15</td>\n",
       "      <td>0.385472</td>\n",
       "    </tr>\n",
       "    <tr>\n",
       "      <th>24</th>\n",
       "      <td>MajorUndergrad_Computer engineering or electri...</td>\n",
       "      <td>0.364690</td>\n",
       "    </tr>\n",
       "    <tr>\n",
       "      <th>4</th>\n",
       "      <td>YearsProgram10_15</td>\n",
       "      <td>0.308233</td>\n",
       "    </tr>\n",
       "    <tr>\n",
       "      <th>26</th>\n",
       "      <td>MajorUndergrad_Computer science or software en...</td>\n",
       "      <td>0.304527</td>\n",
       "    </tr>\n",
       "    <tr>\n",
       "      <th>28</th>\n",
       "      <td>MajorUndergrad_I never declared a major</td>\n",
       "      <td>0.289933</td>\n",
       "    </tr>\n",
       "    <tr>\n",
       "      <th>39</th>\n",
       "      <td>HomeRemote_More than half, but not all, the time</td>\n",
       "      <td>0.232399</td>\n",
       "    </tr>\n",
       "    <tr>\n",
       "      <th>34</th>\n",
       "      <td>HomeRemote_A few days each month</td>\n",
       "      <td>0.224079</td>\n",
       "    </tr>\n",
       "    <tr>\n",
       "      <th>49</th>\n",
       "      <td>CompanyType_Privately-held limited company, no...</td>\n",
       "      <td>0.192465</td>\n",
       "    </tr>\n",
       "    <tr>\n",
       "      <th>46</th>\n",
       "      <td>CompanyType_I prefer not to answer</td>\n",
       "      <td>0.176217</td>\n",
       "    </tr>\n",
       "    <tr>\n",
       "      <th>50</th>\n",
       "      <td>CompanyType_Publicly-traded corporation</td>\n",
       "      <td>0.148269</td>\n",
       "    </tr>\n",
       "    <tr>\n",
       "      <th>12</th>\n",
       "      <td>FormalEducation_Bachelor's degree</td>\n",
       "      <td>0.143778</td>\n",
       "    </tr>\n",
       "    <tr>\n",
       "      <th>58</th>\n",
       "      <td>UnderstandComputers_Strongly agree</td>\n",
       "      <td>0.137287</td>\n",
       "    </tr>\n",
       "    <tr>\n",
       "      <th>47</th>\n",
       "      <td>CompanyType_Non-profit/non-governmental organi...</td>\n",
       "      <td>0.133152</td>\n",
       "    </tr>\n",
       "    <tr>\n",
       "      <th>41</th>\n",
       "      <td>EmploymentStatus_Employed full-time</td>\n",
       "      <td>0.120367</td>\n",
       "    </tr>\n",
       "    <tr>\n",
       "      <th>48</th>\n",
       "      <td>CompanyType_Pre-series A startup</td>\n",
       "      <td>0.101179</td>\n",
       "    </tr>\n",
       "    <tr>\n",
       "      <th>16</th>\n",
       "      <td>FormalEducation_Secondary school</td>\n",
       "      <td>0.099788</td>\n",
       "    </tr>\n",
       "    <tr>\n",
       "      <th>43</th>\n",
       "      <td>EmploymentStatus_Not employed, and not looking...</td>\n",
       "      <td>0.099788</td>\n",
       "    </tr>\n",
       "    <tr>\n",
       "      <th>20</th>\n",
       "      <td>MajorUndergrad_A humanities discipline</td>\n",
       "      <td>0.059634</td>\n",
       "    </tr>\n",
       "    <tr>\n",
       "      <th>1</th>\n",
       "      <td>CareerSatisfaction</td>\n",
       "      <td>0.056877</td>\n",
       "    </tr>\n",
       "    <tr>\n",
       "      <th>0</th>\n",
       "      <td>HoursPerWeek</td>\n",
       "      <td>0.037574</td>\n",
       "    </tr>\n",
       "    <tr>\n",
       "      <th>14</th>\n",
       "      <td>FormalEducation_Master's degree</td>\n",
       "      <td>0.020095</td>\n",
       "    </tr>\n",
       "    <tr>\n",
       "      <th>15</th>\n",
       "      <td>FormalEducation_Professional degree</td>\n",
       "      <td>-0.000145</td>\n",
       "    </tr>\n",
       "    <tr>\n",
       "      <th>33</th>\n",
       "      <td>MajorUndergrad_Something else</td>\n",
       "      <td>-0.001006</td>\n",
       "    </tr>\n",
       "    <tr>\n",
       "      <th>29</th>\n",
       "      <td>MajorUndergrad_Information technology, network...</td>\n",
       "      <td>-0.010341</td>\n",
       "    </tr>\n",
       "    <tr>\n",
       "      <th>36</th>\n",
       "      <td>HomeRemote_All or almost all the time (I'm ful...</td>\n",
       "      <td>-0.037086</td>\n",
       "    </tr>\n",
       "    <tr>\n",
       "      <th>51</th>\n",
       "      <td>CompanyType_Sole proprietorship or partnership...</td>\n",
       "      <td>-0.037165</td>\n",
       "    </tr>\n",
       "    <tr>\n",
       "      <th>55</th>\n",
       "      <td>UnderstandComputers_Agree</td>\n",
       "      <td>-0.037826</td>\n",
       "    </tr>\n",
       "    <tr>\n",
       "      <th>45</th>\n",
       "      <td>CompanyType_I don't know</td>\n",
       "      <td>-0.086808</td>\n",
       "    </tr>\n",
       "    <tr>\n",
       "      <th>57</th>\n",
       "      <td>UnderstandComputers_Somewhat agree</td>\n",
       "      <td>-0.098075</td>\n",
       "    </tr>\n",
       "    <tr>\n",
       "      <th>35</th>\n",
       "      <td>HomeRemote_About half the time</td>\n",
       "      <td>-0.127176</td>\n",
       "    </tr>\n",
       "    <tr>\n",
       "      <th>31</th>\n",
       "      <td>MajorUndergrad_Mathematics or statistics</td>\n",
       "      <td>-0.143669</td>\n",
       "    </tr>\n",
       "    <tr>\n",
       "      <th>44</th>\n",
       "      <td>CompanyType_Government agency or public school...</td>\n",
       "      <td>-0.153099</td>\n",
       "    </tr>\n",
       "    <tr>\n",
       "      <th>3</th>\n",
       "      <td>YearsProgram5_10</td>\n",
       "      <td>-0.168703</td>\n",
       "    </tr>\n",
       "    <tr>\n",
       "      <th>13</th>\n",
       "      <td>FormalEducation_Doctoral degree</td>\n",
       "      <td>-0.278092</td>\n",
       "    </tr>\n",
       "    <tr>\n",
       "      <th>37</th>\n",
       "      <td>HomeRemote_It's complicated</td>\n",
       "      <td>-0.286064</td>\n",
       "    </tr>\n",
       "    <tr>\n",
       "      <th>7</th>\n",
       "      <td>YearsCodedJob0_5</td>\n",
       "      <td>-0.326330</td>\n",
       "    </tr>\n",
       "    <tr>\n",
       "      <th>32</th>\n",
       "      <td>MajorUndergrad_Psychology</td>\n",
       "      <td>-0.335665</td>\n",
       "    </tr>\n",
       "    <tr>\n",
       "      <th>8</th>\n",
       "      <td>YearsCodedJob5_10</td>\n",
       "      <td>-0.434452</td>\n",
       "    </tr>\n",
       "    <tr>\n",
       "      <th>27</th>\n",
       "      <td>MajorUndergrad_Fine arts or performing arts</td>\n",
       "      <td>-0.449092</td>\n",
       "    </tr>\n",
       "    <tr>\n",
       "      <th>52</th>\n",
       "      <td>CompanyType_Something else</td>\n",
       "      <td>-0.462229</td>\n",
       "    </tr>\n",
       "    <tr>\n",
       "      <th>21</th>\n",
       "      <td>MajorUndergrad_A natural science</td>\n",
       "      <td>-0.468425</td>\n",
       "    </tr>\n",
       "    <tr>\n",
       "      <th>18</th>\n",
       "      <td>MajorUndergrad_A business discipline</td>\n",
       "      <td>-0.491863</td>\n",
       "    </tr>\n",
       "    <tr>\n",
       "      <th>11</th>\n",
       "      <td>YearsCodedJob20+</td>\n",
       "      <td>-0.574636</td>\n",
       "    </tr>\n",
       "    <tr>\n",
       "      <th>2</th>\n",
       "      <td>YearsProgram0_5</td>\n",
       "      <td>-0.722797</td>\n",
       "    </tr>\n",
       "    <tr>\n",
       "      <th>23</th>\n",
       "      <td>MajorUndergrad_A social science</td>\n",
       "      <td>-1.026343</td>\n",
       "    </tr>\n",
       "  </tbody>\n",
       "</table>\n",
       "</div>"
      ],
      "text/plain": [
       "                                              Feature  Coeficient\n",
       "17  FormalEducation_Some college/university study ...    1.128779\n",
       "25  MajorUndergrad_Computer programming or Web dev...    1.105660\n",
       "22  MajorUndergrad_A non-computer-focused engineer...    0.973266\n",
       "42                EmploymentStatus_Employed part-time    0.894049\n",
       "6                                     YearsProgram20+    0.746918\n",
       "59              UnderstandComputers_Strongly disagree    0.681295\n",
       "53                    CompanyType_State-owned company    0.676894\n",
       "38  HomeRemote_Less than half the time, but at lea...    0.593341\n",
       "10                                 YearsCodedJob15_20    0.588030\n",
       "40                                   HomeRemote_Never    0.514711\n",
       "5                                   YearsProgram15_20    0.512253\n",
       "19                    MajorUndergrad_A health science    0.477692\n",
       "30      MajorUndergrad_Management information systems    0.465205\n",
       "56                       UnderstandComputers_Disagree    0.431522\n",
       "54                 CompanyType_Venture-funded startup    0.425329\n",
       "9                                  YearsCodedJob10_15    0.385472\n",
       "24  MajorUndergrad_Computer engineering or electri...    0.364690\n",
       "4                                   YearsProgram10_15    0.308233\n",
       "26  MajorUndergrad_Computer science or software en...    0.304527\n",
       "28            MajorUndergrad_I never declared a major    0.289933\n",
       "39   HomeRemote_More than half, but not all, the time    0.232399\n",
       "34                   HomeRemote_A few days each month    0.224079\n",
       "49  CompanyType_Privately-held limited company, no...    0.192465\n",
       "46                 CompanyType_I prefer not to answer    0.176217\n",
       "50            CompanyType_Publicly-traded corporation    0.148269\n",
       "12                  FormalEducation_Bachelor's degree    0.143778\n",
       "58                 UnderstandComputers_Strongly agree    0.137287\n",
       "47  CompanyType_Non-profit/non-governmental organi...    0.133152\n",
       "41                EmploymentStatus_Employed full-time    0.120367\n",
       "48                   CompanyType_Pre-series A startup    0.101179\n",
       "16                   FormalEducation_Secondary school    0.099788\n",
       "43  EmploymentStatus_Not employed, and not looking...    0.099788\n",
       "20             MajorUndergrad_A humanities discipline    0.059634\n",
       "1                                  CareerSatisfaction    0.056877\n",
       "0                                        HoursPerWeek    0.037574\n",
       "14                    FormalEducation_Master's degree    0.020095\n",
       "15                FormalEducation_Professional degree   -0.000145\n",
       "33                      MajorUndergrad_Something else   -0.001006\n",
       "29  MajorUndergrad_Information technology, network...   -0.010341\n",
       "36  HomeRemote_All or almost all the time (I'm ful...   -0.037086\n",
       "51  CompanyType_Sole proprietorship or partnership...   -0.037165\n",
       "55                          UnderstandComputers_Agree   -0.037826\n",
       "45                           CompanyType_I don't know   -0.086808\n",
       "57                 UnderstandComputers_Somewhat agree   -0.098075\n",
       "35                     HomeRemote_About half the time   -0.127176\n",
       "31           MajorUndergrad_Mathematics or statistics   -0.143669\n",
       "44  CompanyType_Government agency or public school...   -0.153099\n",
       "3                                    YearsProgram5_10   -0.168703\n",
       "13                    FormalEducation_Doctoral degree   -0.278092\n",
       "37                        HomeRemote_It's complicated   -0.286064\n",
       "7                                    YearsCodedJob0_5   -0.326330\n",
       "32                          MajorUndergrad_Psychology   -0.335665\n",
       "8                                   YearsCodedJob5_10   -0.434452\n",
       "27        MajorUndergrad_Fine arts or performing arts   -0.449092\n",
       "52                         CompanyType_Something else   -0.462229\n",
       "21                   MajorUndergrad_A natural science   -0.468425\n",
       "18               MajorUndergrad_A business discipline   -0.491863\n",
       "11                                   YearsCodedJob20+   -0.574636\n",
       "2                                     YearsProgram0_5   -0.722797\n",
       "23                    MajorUndergrad_A social science   -1.026343"
      ]
     },
     "execution_count": 74,
     "metadata": {},
     "output_type": "execute_result"
    }
   ],
   "source": [
    "coefficients.sort_values(by=['Coeficient'], ascending=False)"
   ]
  },
  {
   "cell_type": "markdown",
   "metadata": {},
   "source": [
    "###### Model Selecion:"
   ]
  },
  {
   "cell_type": "markdown",
   "metadata": {},
   "source": [
    "- We can see that Decision tree over-fits on the training dataset, with 100% accuracy and F1 score on the training datasets\n",
    "- Logistic regression slightly outperforms Ada Boost on both training and test datasets. Hence, the logistic regression was chosen to produce coeficients\n"
   ]
  },
  {
   "cell_type": "markdown",
   "metadata": {},
   "source": [
    "Years porgramming and tears coded in a job seem to be interesting variables. I want to visualize the coeffients for their respective year brackets."
   ]
  },
  {
   "cell_type": "code",
   "execution_count": 107,
   "metadata": {},
   "outputs": [
    {
     "data": {
      "text/html": [
       "<div>\n",
       "<style scoped>\n",
       "    .dataframe tbody tr th:only-of-type {\n",
       "        vertical-align: middle;\n",
       "    }\n",
       "\n",
       "    .dataframe tbody tr th {\n",
       "        vertical-align: top;\n",
       "    }\n",
       "\n",
       "    .dataframe thead th {\n",
       "        text-align: right;\n",
       "    }\n",
       "</style>\n",
       "<table border=\"1\" class=\"dataframe\">\n",
       "  <thead>\n",
       "    <tr style=\"text-align: right;\">\n",
       "      <th></th>\n",
       "      <th>Feature</th>\n",
       "      <th>Coeficient</th>\n",
       "    </tr>\n",
       "  </thead>\n",
       "  <tbody>\n",
       "    <tr>\n",
       "      <th>2</th>\n",
       "      <td>YearsProgram0_5</td>\n",
       "      <td>-0.722797</td>\n",
       "    </tr>\n",
       "    <tr>\n",
       "      <th>3</th>\n",
       "      <td>YearsProgram5_10</td>\n",
       "      <td>-0.168703</td>\n",
       "    </tr>\n",
       "    <tr>\n",
       "      <th>4</th>\n",
       "      <td>YearsProgram10_15</td>\n",
       "      <td>0.308233</td>\n",
       "    </tr>\n",
       "    <tr>\n",
       "      <th>5</th>\n",
       "      <td>YearsProgram15_20</td>\n",
       "      <td>0.512253</td>\n",
       "    </tr>\n",
       "    <tr>\n",
       "      <th>6</th>\n",
       "      <td>YearsProgram20+</td>\n",
       "      <td>0.746918</td>\n",
       "    </tr>\n",
       "  </tbody>\n",
       "</table>\n",
       "</div>"
      ],
      "text/plain": [
       "             Feature  Coeficient\n",
       "2    YearsProgram0_5   -0.722797\n",
       "3   YearsProgram5_10   -0.168703\n",
       "4  YearsProgram10_15    0.308233\n",
       "5  YearsProgram15_20    0.512253\n",
       "6    YearsProgram20+    0.746918"
      ]
     },
     "execution_count": 107,
     "metadata": {},
     "output_type": "execute_result"
    }
   ],
   "source": [
    "df_yp = coefficients.loc[coefficients['Feature'].isin(['YearsProgram0_5','YearsProgram5_10','YearsProgram10_15','YearsProgram15_20', 'YearsProgram20+'])]\n",
    "sorted_yp = df_yp.sort_values(by=['Coeficient'], ascending=True)\n",
    "sorted_yp"
   ]
  },
  {
   "cell_type": "code",
   "execution_count": 110,
   "metadata": {},
   "outputs": [
    {
     "data": {
      "text/plain": [
       "Text(0,0.5,'Coefficient value')"
      ]
     },
     "execution_count": 110,
     "metadata": {},
     "output_type": "execute_result"
    },
    {
     "data": {
      "image/png": "[encoded data removed]",
      "text/plain": [
       "<matplotlib.figure.Figure at 0x7fd36750ecf8>"
      ]
     },
     "metadata": {
      "needs_background": "light"
     },
     "output_type": "display_data"
    }
   ],
   "source": [
    "plt.figure(figsize=[15,10])\n",
    "pyplot.bar(sorted_yp['Feature'], sorted_yp['Coeficient'], color = 'maroon')\n",
    "plt.title('Years of programming experience and their Coefficients of predictive power')\n",
    "plt.ylabel('Coefficient value')\n"
   ]
  },
  {
   "cell_type": "code",
   "execution_count": 76,
   "metadata": {},
   "outputs": [
    {
     "data": {
      "text/html": [
       "<div>\n",
       "<style scoped>\n",
       "    .dataframe tbody tr th:only-of-type {\n",
       "        vertical-align: middle;\n",
       "    }\n",
       "\n",
       "    .dataframe tbody tr th {\n",
       "        vertical-align: top;\n",
       "    }\n",
       "\n",
       "    .dataframe thead th {\n",
       "        text-align: right;\n",
       "    }\n",
       "</style>\n",
       "<table border=\"1\" class=\"dataframe\">\n",
       "  <thead>\n",
       "    <tr style=\"text-align: right;\">\n",
       "      <th></th>\n",
       "      <th>Feature</th>\n",
       "      <th>Coeficient</th>\n",
       "    </tr>\n",
       "  </thead>\n",
       "  <tbody>\n",
       "    <tr>\n",
       "      <th>11</th>\n",
       "      <td>YearsCodedJob20+</td>\n",
       "      <td>-0.574636</td>\n",
       "    </tr>\n",
       "    <tr>\n",
       "      <th>8</th>\n",
       "      <td>YearsCodedJob5_10</td>\n",
       "      <td>-0.434452</td>\n",
       "    </tr>\n",
       "    <tr>\n",
       "      <th>7</th>\n",
       "      <td>YearsCodedJob0_5</td>\n",
       "      <td>-0.326330</td>\n",
       "    </tr>\n",
       "    <tr>\n",
       "      <th>9</th>\n",
       "      <td>YearsCodedJob10_15</td>\n",
       "      <td>0.385472</td>\n",
       "    </tr>\n",
       "    <tr>\n",
       "      <th>10</th>\n",
       "      <td>YearsCodedJob15_20</td>\n",
       "      <td>0.588030</td>\n",
       "    </tr>\n",
       "  </tbody>\n",
       "</table>\n",
       "</div>"
      ],
      "text/plain": [
       "               Feature  Coeficient\n",
       "11    YearsCodedJob20+   -0.574636\n",
       "8    YearsCodedJob5_10   -0.434452\n",
       "7     YearsCodedJob0_5   -0.326330\n",
       "9   YearsCodedJob10_15    0.385472\n",
       "10  YearsCodedJob15_20    0.588030"
      ]
     },
     "execution_count": 76,
     "metadata": {},
     "output_type": "execute_result"
    }
   ],
   "source": [
    "df_ycj = coefficients.loc[coefficients['Feature'].isin(['YearsCodedJob0_5','YearsCodedJob5_10','YearsCodedJob10_15','YearsCodedJob15_20', 'YearsCodedJob20+'])]\n",
    "sorted_ycj = df_ycj.sort_values(by=['Coeficient'], ascending=True)\n",
    "sorted_ycj"
   ]
  },
  {
   "cell_type": "code",
   "execution_count": 77,
   "metadata": {},
   "outputs": [
    {
     "data": {
      "text/plain": [
       "Text(0,0.5,'Coefficient value')"
      ]
     },
     "execution_count": 77,
     "metadata": {},
     "output_type": "execute_result"
    },
    {
     "data": {
      "image/png": "[encoded data removed]",
      "text/plain": [
       "<matplotlib.figure.Figure at 0x7f410a1af588>"
      ]
     },
     "metadata": {
      "needs_background": "light"
     },
     "output_type": "display_data"
    }
   ],
   "source": [
    "plt.figure(figsize=[15,10])\n",
    "pyplot.bar(sorted_ycj['Feature'], sorted_ycj['Coeficient'], color = 'maroon')\n",
    "plt.title('Years of work coding experience and their Coefficients of predictive power')\n",
    "plt.ylabel('Coefficient value')"
   ]
  },
  {
   "cell_type": "markdown",
   "metadata": {},
   "source": [
    "It is fascinating to see how explicitly the years of programmign experience correlate with male gender with the coefficients increading incrementally. However, it is puzzling why 'more than 20 years coding in a job' is less correlated than '0-5 years of coding in a job'.I am not sure why that is."
   ]
  },
  {
   "cell_type": "markdown",
   "metadata": {},
   "source": [
    "###### Question 3: Conclusion"
   ]
  },
  {
   "cell_type": "markdown",
   "metadata": {},
   "source": [
    "The following variables most correlate with male gender of the developer:\n",
    "    - Computer programming/ non-computer engineering undergraduate studies\n",
    "    - A university degree\n",
    "    - Working part time\n",
    "    - Over 20 years of programming experience"
   ]
  },
  {
   "cell_type": "markdown",
   "metadata": {},
   "source": [
    "The following variables least correlate with male gender of the developer:\n",
    "    - Social/Natural sciences and business discipline undergraduate studies\n",
    "    - Zero to five years of programmign experience\n",
    "    - Over 20 years of coding experience in a job"
   ]
  }
 ],
 "metadata": {
  "kernelspec": {
   "display_name": "Python 3",
   "language": "python",
   "name": "python3"
  },
  "language_info": {
   "codemirror_mode": {
    "name": "ipython",
    "version": 3
   },
   "file_extension": ".py",
   "mimetype": "text/x-python",
   "name": "python",
   "nbconvert_exporter": "python",
   "pygments_lexer": "ipython3",
   "version": "3.6.3"
  }
 },
 "nbformat": 4,
 "nbformat_minor": 2
}
